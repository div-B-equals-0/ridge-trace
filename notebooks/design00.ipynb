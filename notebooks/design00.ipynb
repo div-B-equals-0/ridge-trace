{
 "cells": [
  {
   "cell_type": "markdown",
   "id": "c064b327-443c-487f-9b06-5b13d480d67f",
   "metadata": {},
   "source": [
    "# Scratch notebook for experimenting with ridge trace algorithm"
   ]
  },
  {
   "cell_type": "markdown",
   "id": "721528ee-8c59-4322-828a-5ef20e10b6d2",
   "metadata": {},
   "source": [
    "## Basic plan\n",
    "\n",
    "0. We use a map of surface brightness, which we will call $B$\n",
    "1. We start at some point on the emission arc that we want to trace. For instance, the local maximum brightness\n",
    "2. Find the two perpendicular directions of the principal curvature: $\\hat{n}_1$, $\\hat{n}_2$\n",
    "3. Take a step parallel to $\\hat{n}_2$, which should be tangential to the arc\n",
    "4. Then look along the direction $\\hat{n}_1$ to find the point of maximum $B$ and set this as the next point on the arc\n",
    "5. Return to step 2 and repeat\n",
    "6. We need some criterion for saying when we should stop"
   ]
  },
  {
   "cell_type": "code",
   "execution_count": 8,
   "id": "3bf0330b-2e73-4b84-a475-d83c87672f2e",
   "metadata": {},
   "outputs": [],
   "source": [
    "import sys\n",
    "from pathlib import Path\n",
    "import numpy as np\n",
    "from astropy.io import fits\n",
    "from ridge_trace.curvature import ImageCurvature"
   ]
  },
  {
   "cell_type": "code",
   "execution_count": 5,
   "id": "329a4947-b90e-41eb-b8e4-4487c02591c7",
   "metadata": {},
   "outputs": [
    {
     "data": {
      "text/plain": [
       "sys.version_info(major=3, minor=12, micro=1, releaselevel='final', serial=0)"
      ]
     },
     "execution_count": 5,
     "metadata": {},
     "output_type": "execute_result"
    }
   ],
   "source": [
    "sys.version_info"
   ]
  },
  {
   "cell_type": "markdown",
   "id": "d4ef4913-6cfb-4d3e-b59e-e7e6bad4f150",
   "metadata": {},
   "source": [
    "## Load the image data from FITS files"
   ]
  },
  {
   "cell_type": "code",
   "execution_count": 6,
   "id": "9dc86491-597e-4184-ba42-c9da782bb008",
   "metadata": {},
   "outputs": [],
   "source": [
    "datapath = Path.cwd().parent / \"data\"\n",
    "fitsfiles = list(datapath.glob(\"*.fits\"))\n",
    "proplyd = \"069-601\"\n",
    "hdu = fits.open(fitsfiles[1])[\"SCI\"]"
   ]
  },
  {
   "cell_type": "markdown",
   "id": "149bd4d0-d4d3-4e15-8d87-058a70ada4a3",
   "metadata": {},
   "source": [
    "Calculate curvatures as in demo01 notebook"
   ]
  },
  {
   "cell_type": "code",
   "execution_count": 9,
   "id": "83997bfd-edd2-40dd-8a6e-45ff37e61dfc",
   "metadata": {},
   "outputs": [],
   "source": [
    "x1, x2 = 250, 420\n",
    "y1, y2 = 250, 420\n",
    "v0, d0 = 1.0, 20\n",
    "ic = ImageCurvature(\n",
    "    hdu.data, \n",
    "    smooth=2.5, \n",
    "    sharp=40, \n",
    "    max_cutoff=8.5, \n",
    "    bbox=[x1, y1, x2, y2], \n",
    "    scales=(v0, d0),\n",
    ")"
   ]
  },
  {
   "cell_type": "markdown",
   "id": "a8a45c1d-d761-42b3-a0ea-6c39584c27c4",
   "metadata": {},
   "source": [
    "## Look at traces through the image from the peak\n"
   ]
  },
  {
   "cell_type": "code",
   "execution_count": 14,
   "id": "f2616616-8ba5-420a-a2f9-480e3c117d4f",
   "metadata": {},
   "outputs": [
    {
     "data": {
      "text/plain": [
       "-8.541056619175956"
      ]
     },
     "execution_count": 14,
     "metadata": {},
     "output_type": "execute_result"
    }
   ],
   "source": [
    "np.nanmin(ic.kappa1), "
   ]
  },
  {
   "cell_type": "markdown",
   "id": "3bc7d431-d85c-4b09-ad39-c1e2debfbe46",
   "metadata": {},
   "source": [
    "## Try to implement algorithm \n",
    "\n",
    "We are going to need a function to interpolate from the grid to an arbitrary point"
   ]
  },
  {
   "cell_type": "code",
   "execution_count": null,
   "id": "bec3daa7-cf5c-4364-b10a-8ca7ff2ca6c5",
   "metadata": {},
   "outputs": [],
   "source": []
  }
 ],
 "metadata": {
  "kernelspec": {
   "display_name": "Python 3 (ipykernel)",
   "language": "python",
   "name": "python3"
  },
  "language_info": {
   "codemirror_mode": {
    "name": "ipython",
    "version": 3
   },
   "file_extension": ".py",
   "mimetype": "text/x-python",
   "name": "python",
   "nbconvert_exporter": "python",
   "pygments_lexer": "ipython3",
   "version": "3.12.1"
  }
 },
 "nbformat": 4,
 "nbformat_minor": 5
}
