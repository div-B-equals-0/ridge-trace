{
 "cells": [
  {
   "cell_type": "markdown",
   "id": "c064b327-443c-487f-9b06-5b13d480d67f",
   "metadata": {},
   "source": [
    "# Scratch notebook for experimenting with ridge trace algorithm"
   ]
  },
  {
   "cell_type": "markdown",
   "id": "721528ee-8c59-4322-828a-5ef20e10b6d2",
   "metadata": {},
   "source": [
    "## Basic plan\n",
    "\n",
    "0. We use a map of surface brightness, which we will call $B$\n",
    "1. We start at some point on the emission arc that we want to trace. For instance, the local maximum brightness\n",
    "2. We find the direction $\\hat{s}$ where the curvature "
   ]
  },
  {
   "cell_type": "code",
   "execution_count": 1,
   "id": "3bf0330b-2e73-4b84-a475-d83c87672f2e",
   "metadata": {},
   "outputs": [],
   "source": [
    "import sys"
   ]
  },
  {
   "cell_type": "code",
   "execution_count": 2,
   "id": "329a4947-b90e-41eb-b8e4-4487c02591c7",
   "metadata": {},
   "outputs": [
    {
     "data": {
      "text/plain": [
       "sys.version_info(major=3, minor=12, micro=1, releaselevel='final', serial=0)"
      ]
     },
     "execution_count": 2,
     "metadata": {},
     "output_type": "execute_result"
    }
   ],
   "source": [
    "sys.version_info"
   ]
  },
  {
   "cell_type": "code",
   "execution_count": null,
   "id": "9dc86491-597e-4184-ba42-c9da782bb008",
   "metadata": {},
   "outputs": [],
   "source": []
  }
 ],
 "metadata": {
  "kernelspec": {
   "display_name": "Python 3 (ipykernel)",
   "language": "python",
   "name": "python3"
  },
  "language_info": {
   "codemirror_mode": {
    "name": "ipython",
    "version": 3
   },
   "file_extension": ".py",
   "mimetype": "text/x-python",
   "name": "python",
   "nbconvert_exporter": "python",
   "pygments_lexer": "ipython3",
   "version": "3.12.1"
  }
 },
 "nbformat": 4,
 "nbformat_minor": 5
}
